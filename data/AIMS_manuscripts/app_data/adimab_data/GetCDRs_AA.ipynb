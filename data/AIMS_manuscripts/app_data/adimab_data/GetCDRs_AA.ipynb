{
 "cells": [
  {
   "cell_type": "code",
   "execution_count": 5,
   "metadata": {},
   "outputs": [],
   "source": [
    "from Bio.Seq import Seq\n",
    "from Bio.Alphabet import IUPAC\n",
    "from Bio import pairwise2\n",
    "from Bio.pairwise2 import format_alignment\n",
    "import numpy as np\n",
    "import regex\n",
    "import pandas\n",
    "from progress.bar import Bar"
   ]
  },
  {
   "cell_type": "markdown",
   "metadata": {},
   "source": [
    "# NEED TO NOTE OFF OF THE RIP, THIS PROGRAM IS CURRENTLY HEAVILY CUSTOMIZED FOR ADIMAB PNAS PAPER DATA\n",
    "Sometime in the future, I should probably actually make it pretty customizable given any sequence"
   ]
  },
  {
   "cell_type": "code",
   "execution_count": 6,
   "metadata": {},
   "outputs": [],
   "source": [
    "fullH=pandas.read_csv('seqsH.txt',header=None)\n",
    "cdr3H=pandas.read_csv('cdr3H_germ.txt',header=None)\n",
    "non3H=pandas.read_csv('non_cdr3H.txt',header=None)\n",
    "alignmentH=pandas.read_csv('alignmentsH.txt',header=None)\n",
    "\n",
    "fullL=pandas.read_csv('seqsL.txt',header=None)\n",
    "cdr3L=pandas.read_csv('cdr3L_germ.txt',header=None)\n",
    "non3L=pandas.read_csv('non_cdr3L.txt',header=None)\n",
    "alignmentL=pandas.read_csv('alignmentsL.txt',header=None)"
   ]
  },
  {
   "cell_type": "markdown",
   "metadata": {},
   "source": [
    "# HEAVY CHAIN"
   ]
  },
  {
   "cell_type": "code",
   "execution_count": 7,
   "metadata": {},
   "outputs": [],
   "source": [
    "# Again, this is currently a bit of a hardcoded solution... Need to fix at some point.\n",
    "# Should find out what the \"find\" wildcard is\n",
    "for i in np.arange(len(alignmentH)):\n",
    "    # Whole bigass block of code just for CDR1\n",
    "    if alignmentH.values[i][0].find('<CDR1') != -1:\n",
    "        start=alignmentH.values[i][0].find('<CDR1')\n",
    "    if alignmentH.values[i][0].find('<-CDR1') != -1:\n",
    "        start=alignmentH.values[i][0].find('<-CDR1')\n",
    "    if alignmentH.values[i][0].find('<----FR2') != -1:\n",
    "        end = alignmentH.values[i][0].find('<----FR2')\n",
    "    elif alignmentH.values[i][0].find('<---FR2') != -1:\n",
    "        end = alignmentH.values[i][0].find('<---FR2')\n",
    "    cdr1_single=non3H.values[i][0][start:end-1]\n",
    "    if i == 0:\n",
    "        cdr1_final=cdr1_single\n",
    "    else:\n",
    "        cdr1_final=np.vstack((cdr1_final,cdr1_single))\n",
    "        \n",
    "     # Whole bigass block of code just for CDR2\n",
    "    if alignmentH.values[i][0].find('<CDR2') != -1:\n",
    "        start=alignmentH.values[i][0].find('<CDR2')\n",
    "    if alignmentH.values[i][0].find('<--------------FR3') != -1:\n",
    "        end = alignmentH.values[i][0].find('<--------------FR3')\n",
    "    cdr2_single=non3H.values[i][0][start:end-1]\n",
    "    if i == 0:\n",
    "        cdr2_final=cdr2_single\n",
    "    else:\n",
    "        cdr2_final=np.vstack((cdr2_final,cdr2_single))\n",
    "        \n",
    "# EVIDENTLY AT THE END OF ALL THIS, WE CAN GET SOME WEIRD ALIGNMENT GAPS... SHOULD MAKE SURE \n",
    "# THAT I GET RID OF THOSE AT THE END OF ALL OF THIS"
   ]
  },
  {
   "cell_type": "code",
   "execution_count": 68,
   "metadata": {},
   "outputs": [],
   "source": [
    "# LOAD IN THE HEAVY J-Gene\n",
    "JgeneH=pandas.read_csv('human_IGHJ.txt',header=None)\n",
    "# Take every other entry\n",
    "heavyJ=JgeneH.iloc[::2, :].values[1:]"
   ]
  },
  {
   "cell_type": "code",
   "execution_count": 19,
   "metadata": {},
   "outputs": [],
   "source": [
    "# Now we wanna get CDR3\n",
    "full1 = fullH.where((pandas.notnull(fullH)), 'None')\n",
    "full2 = fullH.where((pandas.notnull(full1)), [])\n",
    "\n",
    "cdr3H1 = cdr3H.where((pandas.notnull(cdr3H)), 'None')\n",
    "cdr3H2 = cdr3H.where((pandas.notnull(cdr3H1)), [])\n",
    "\n",
    "cols=np.shape(full2)[1]\n",
    "full_input=[Seq(a, IUPAC.protein) for a in full2.iloc[:,cols-1]]\n",
    "full_cdr3H=[Seq(a, IUPAC.protein) for a in cdr3H2.iloc[:,cols-1]]\n",
    "\n",
    "for i in np.arange(len(full_cdr3H)):\n",
    "    # Select each single sequence\n",
    "    test1=full_cdr3H[i]\n",
    "    test2=full_input[i]\n",
    "    # Do the alignments\n",
    "    # This localxs alignment should not allow gaps, with this below comment\n",
    "    aa=pairwise2.align.localxs(test1,test2,-1,-1)\n",
    "    #### IMPORTANT NOTE #######\n",
    "    # So for now, this is ok, but if there are EVER multiple Cysteines in these final stretches,\n",
    "    # this \"find\" command will fail. Keep that in mind\n",
    "    where=aa[0][0].find('C')\n",
    "    cdr3H_single=aa[0][1][where+1:]\n",
    "    \n",
    "    if i==0:\n",
    "        cdr3H_final=cdr3H_single\n",
    "    else:\n",
    "        cdr3H_final=np.vstack((cdr3H_final,cdr3H_single))\n",
    "        \n",
    "for i in np.arange(len(cdr3H_final)):\n",
    "    for j in np.arange(len(heavyJ)):\n",
    "        test1=cdr3H_final[i][0]\n",
    "        test2=heavyJ[j][0]\n",
    "        aa=pairwise2.align.localxs(test1,test2,-1,-1)\n",
    "        if j==0:\n",
    "            best=aa[0][2]\n",
    "            Jnum=j\n",
    "        else:\n",
    "            if aa[0][2] > best:\n",
    "                best=aa[0][2]\n",
    "                Jnum=j\n",
    "        align_final=pairwise2.align.localxs(test1,heavyJ[Jnum],-1,-1)\n",
    "        where=align_final[0][3]\n",
    "        short_3H=aa[0][0][0:where]\n",
    "        if i==0:\n",
    "            cdr3H_final_jmin=short_3H\n",
    "        else:\n",
    "            cdr3H_final_jmin=np.vstack((cdr3H_final_jmin,short_3H))"
   ]
  },
  {
   "cell_type": "code",
   "execution_count": 9,
   "metadata": {},
   "outputs": [],
   "source": [
    "final=np.hstack((cdr1_final,cdr2_final,cdr3H_final_jmin))\n",
    "np.savetxt('cdrs_H.txt',final,fmt='%s')"
   ]
  },
  {
   "cell_type": "markdown",
   "metadata": {},
   "source": [
    "# LIGHT CHAIN"
   ]
  },
  {
   "cell_type": "code",
   "execution_count": 48,
   "metadata": {},
   "outputs": [],
   "source": [
    "# Again, this is currently a bit of a hardcoded solution... Need to fix at some point.\n",
    "# Should find out what the \"find\" wildcard is\n",
    "for i in np.arange(len(alignmentL)):\n",
    "    # Whole bigass block of code just for CDR1\n",
    "    if alignmentL.values[i][0].find('<CDR1') != -1:\n",
    "        start=alignmentL.values[i][0].find('<CDR1')\n",
    "    if alignmentL.values[i][0].find('<-CDR1') != -1:\n",
    "        start=alignmentL.values[i][0].find('<-CDR1')\n",
    "    if alignmentL.values[i][0].find('<---FR2') != -1:\n",
    "        end = alignmentL.values[i][0].find('<---FR2')\n",
    "    elif alignmentL.values[i][0].find('<-----FR2') != -1:\n",
    "        end = alignmentL.values[i][0].find('<-----FR2')\n",
    "    cdr1_single=non3L.values[i][0][start:end-1]\n",
    "    if i == 0:\n",
    "        cdr1_final=cdr1_single\n",
    "    else:\n",
    "        cdr1_final=np.vstack((cdr1_final,cdr1_single))\n",
    "        \n",
    "     # Whole bigass block of code just for CDR2\n",
    "    if alignmentL.values[i][0].find('<C>') != -1:\n",
    "        start=alignmentL.values[i][0].find('<C>')\n",
    "    if alignmentL.values[i][0].find('<-------------FR3') != -1:\n",
    "        end = alignmentL.values[i][0].find('<-------------FR3')\n",
    "    elif alignmentL.values[i][0].find('<--------------FR3') != -1:\n",
    "        end = alignmentL.values[i][0].find('<--------------FR3')\n",
    "    cdr2_single=non3L.values[i][0][start:end]\n",
    "    if i == 0:\n",
    "        cdr2_final=cdr2_single\n",
    "    else:\n",
    "        cdr2_final=np.vstack((cdr2_final,cdr2_single))\n",
    "        \n",
    "# EVIDENTLY AT THE END OF ALL THIS, WE CAN GET SOME WEIRD ALIGNMENT GAPS... SHOULD MAKE SURE \n",
    "# THAT I GET RID OF THOSE AT THE END OF ALL OF THIS"
   ]
  },
  {
   "cell_type": "code",
   "execution_count": 87,
   "metadata": {},
   "outputs": [],
   "source": [
    "# LOAD IN THE HEAVY J-Gene\n",
    "JgeneL1=pandas.read_csv('human_IGKJ.txt',header=None)\n",
    "# Take every other entry\n",
    "lightJ1=JgeneL1.iloc[::2, :].values[1:]\n",
    "JgeneL2=pandas.read_csv('human_IGLJ.txt',header=None)\n",
    "# Take every other entry\n",
    "lightJ2=JgeneL2.iloc[::2, :].values[1:]\n",
    "\n",
    "lightJ=np.vstack((lightJ1,lightJ2))"
   ]
  },
  {
   "cell_type": "code",
   "execution_count": 90,
   "metadata": {},
   "outputs": [],
   "source": [
    "# Now we wanna get CDR3\n",
    "full1 = fullL.where((pandas.notnull(fullL)), 'None')\n",
    "full2 = fullL.where((pandas.notnull(full1)), [])\n",
    "\n",
    "cdr3L1 = cdr3L.where((pandas.notnull(cdr3L)), 'None')\n",
    "cdr3L2 = cdr3L.where((pandas.notnull(cdr3L1)), [])\n",
    "\n",
    "cols=np.shape(full2)[1]\n",
    "full_input=[Seq(a, IUPAC.protein) for a in full2.iloc[:,cols-1]]\n",
    "full_cdr3L=[Seq(a, IUPAC.protein) for a in cdr3L2.iloc[:,cols-1]]\n",
    "\n",
    "for i in np.arange(len(full_cdr3L)):\n",
    "    # Select each single sequence\n",
    "    test1=full_cdr3L[i]\n",
    "    test2=full_input[i]\n",
    "    # Do the alignments\n",
    "    # This localxs alignment should not allow gaps, with this below comment\n",
    "    aa=pairwise2.align.localxs(test1,test2,-1,-1)\n",
    "    #### IMPORTANT NOTE #######\n",
    "    # So for now, we don't have that same neat conserved cysteine in the CDR3 germline region,\n",
    "    # but there does seem to be a conserved, single YC or FC we can just grab.\n",
    "    # NOTE THERE IS A SINGLE HC... UNSURE IF THIS IS CONSERVED\n",
    "    where=aa[0][1].find('YC')\n",
    "    if where == -1:\n",
    "        where=aa[0][1].find('FC')\n",
    "        if where == -1:\n",
    "            where=aa[0][1].find('HC')\n",
    "    # Have to add 2 because we're doing a two-character \"find\" and it starts from first character\n",
    "    cdr3L_single=aa[0][1][where+2:]\n",
    "    \n",
    "    if i==0:\n",
    "        cdr3L_final=cdr3L_single\n",
    "    else:\n",
    "        cdr3L_final=np.vstack((cdr3L_final,cdr3L_single))\n",
    "        \n",
    "for i in np.arange(len(cdr3L_final)):\n",
    "    for j in np.arange(len(lightJ)):\n",
    "        test1=cdr3L_final[i][0]\n",
    "        test2=lightJ[j][0]\n",
    "        aa=pairwise2.align.localxs(test1,test2,-1,-1)\n",
    "        if j==0:\n",
    "            best=aa[0][2]\n",
    "            Jnum=j\n",
    "        else:\n",
    "            if aa[0][2] > best:\n",
    "                best=aa[0][2]\n",
    "                Jnum=j\n",
    "        align_final=pairwise2.align.localxs(test1,lightJ[Jnum],-1,-1)\n",
    "        where=align_final[0][3]\n",
    "        short_3L=aa[0][0][0:where]\n",
    "    if i==0:\n",
    "        cdr3L_final_jmin=short_3L\n",
    "    else:\n",
    "            cdr3L_final_jmin=np.vstack((cdr3L_final_jmin,short_3L))"
   ]
  },
  {
   "cell_type": "code",
   "execution_count": 97,
   "metadata": {},
   "outputs": [
    {
     "data": {
      "text/plain": [
       "array(['ARSAYYDYDGFAYW'], dtype='<U24')"
      ]
     },
     "execution_count": 97,
     "metadata": {},
     "output_type": "execute_result"
    }
   ],
   "source": [
    "cdr3H_final_jmin[800]"
   ]
  },
  {
   "cell_type": "code",
   "execution_count": 95,
   "metadata": {},
   "outputs": [
    {
     "data": {
      "text/plain": [
       "(817, 1)"
      ]
     },
     "execution_count": 95,
     "metadata": {},
     "output_type": "execute_result"
    }
   ],
   "source": [
    "np.shape(cdr3H_final_jmin)"
   ]
  },
  {
   "cell_type": "code",
   "execution_count": 93,
   "metadata": {},
   "outputs": [
    {
     "ename": "ValueError",
     "evalue": "all the input array dimensions except for the concatenation axis must match exactly",
     "output_type": "error",
     "traceback": [
      "\u001b[0;31m---------------------------------------------------------------------------\u001b[0m",
      "\u001b[0;31mValueError\u001b[0m                                Traceback (most recent call last)",
      "\u001b[0;32m<ipython-input-93-7dfd8a55e323>\u001b[0m in \u001b[0;36m<module>\u001b[0;34m\u001b[0m\n\u001b[0;32m----> 1\u001b[0;31m \u001b[0mfinal\u001b[0m\u001b[0;34m=\u001b[0m\u001b[0mnp\u001b[0m\u001b[0;34m.\u001b[0m\u001b[0mhstack\u001b[0m\u001b[0;34m(\u001b[0m\u001b[0;34m(\u001b[0m\u001b[0mcdr1_final\u001b[0m\u001b[0;34m,\u001b[0m\u001b[0mcdr2_final\u001b[0m\u001b[0;34m,\u001b[0m\u001b[0mcdr3L_final_jmin\u001b[0m\u001b[0;34m)\u001b[0m\u001b[0;34m)\u001b[0m\u001b[0;34m\u001b[0m\u001b[0;34m\u001b[0m\u001b[0m\n\u001b[0m\u001b[1;32m      2\u001b[0m \u001b[0mnp\u001b[0m\u001b[0;34m.\u001b[0m\u001b[0msavetxt\u001b[0m\u001b[0;34m(\u001b[0m\u001b[0;34m'cdrs_L.txt'\u001b[0m\u001b[0;34m,\u001b[0m\u001b[0mfinal\u001b[0m\u001b[0;34m,\u001b[0m\u001b[0mfmt\u001b[0m\u001b[0;34m=\u001b[0m\u001b[0;34m'%s'\u001b[0m\u001b[0;34m)\u001b[0m\u001b[0;34m\u001b[0m\u001b[0;34m\u001b[0m\u001b[0m\n",
      "\u001b[0;32m~/anaconda3/lib/python3.6/site-packages/numpy/core/shape_base.py\u001b[0m in \u001b[0;36mhstack\u001b[0;34m(tup)\u001b[0m\n\u001b[1;32m    286\u001b[0m         \u001b[0;32mreturn\u001b[0m \u001b[0m_nx\u001b[0m\u001b[0;34m.\u001b[0m\u001b[0mconcatenate\u001b[0m\u001b[0;34m(\u001b[0m\u001b[0marrs\u001b[0m\u001b[0;34m,\u001b[0m \u001b[0;36m0\u001b[0m\u001b[0;34m)\u001b[0m\u001b[0;34m\u001b[0m\u001b[0;34m\u001b[0m\u001b[0m\n\u001b[1;32m    287\u001b[0m     \u001b[0;32melse\u001b[0m\u001b[0;34m:\u001b[0m\u001b[0;34m\u001b[0m\u001b[0;34m\u001b[0m\u001b[0m\n\u001b[0;32m--> 288\u001b[0;31m         \u001b[0;32mreturn\u001b[0m \u001b[0m_nx\u001b[0m\u001b[0;34m.\u001b[0m\u001b[0mconcatenate\u001b[0m\u001b[0;34m(\u001b[0m\u001b[0marrs\u001b[0m\u001b[0;34m,\u001b[0m \u001b[0;36m1\u001b[0m\u001b[0;34m)\u001b[0m\u001b[0;34m\u001b[0m\u001b[0;34m\u001b[0m\u001b[0m\n\u001b[0m\u001b[1;32m    289\u001b[0m \u001b[0;34m\u001b[0m\u001b[0m\n\u001b[1;32m    290\u001b[0m \u001b[0;34m\u001b[0m\u001b[0m\n",
      "\u001b[0;31mValueError\u001b[0m: all the input array dimensions except for the concatenation axis must match exactly"
     ]
    }
   ],
   "source": [
    "final=np.hstack((cdr1_final,cdr2_final,cdr3L_final_jmin))\n",
    "np.savetxt('cdrs_L.txt',final,fmt='%s')"
   ]
  }
 ],
 "metadata": {
  "kernelspec": {
   "display_name": "Python 3",
   "language": "python",
   "name": "python3"
  },
  "language_info": {
   "codemirror_mode": {
    "name": "ipython",
    "version": 3
   },
   "file_extension": ".py",
   "mimetype": "text/x-python",
   "name": "python",
   "nbconvert_exporter": "python",
   "pygments_lexer": "ipython3",
   "version": "3.6.8"
  }
 },
 "nbformat": 4,
 "nbformat_minor": 2
}
