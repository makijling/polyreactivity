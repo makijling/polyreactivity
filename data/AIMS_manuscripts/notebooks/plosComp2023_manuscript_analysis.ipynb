{
 "cells": [
  {
   "cell_type": "code",
   "execution_count": 1,
   "metadata": {},
   "outputs": [],
   "source": [
    "import numpy as np\n",
    "from matplotlib import cm\n",
    "import matplotlib.pyplot as pl\n",
    "from matplotlib import rcParams\n",
    "from matplotlib import rc\n",
    "from matplotlib.lines import Line2D\n",
    "from mpl_toolkits import mplot3d\n",
    "import pandas\n",
    "\n",
    "# This bit is for that figure formatting. Change font and font size if desired\n",
    "font = {'family' : 'Arial',\n",
    "        'weight' : 'bold',\n",
    "        'size'   : 20}\n",
    "COLOR = 'black'\n",
    "rcParams['text.color'] = 'black'\n",
    "rcParams['axes.labelcolor'] = COLOR\n",
    "rcParams['xtick.color'] = COLOR\n",
    "rcParams['ytick.color'] = COLOR\n",
    "\n",
    "rc('font', **font)\n",
    "\n",
    "# Lastly this custom colormap is for \n",
    "import matplotlib as mpl\n",
    "upper = mpl.cm.jet(np.arange(256))\n",
    "lower = np.ones((int(256/4),4))\n",
    "for i in range(3):\n",
    "    lower[:,i] = np.linspace(1, upper[0,i], lower.shape[0])\n",
    "cmap = np.vstack(( lower, upper ))\n",
    "cmap = mpl.colors.ListedColormap(cmap, name='myColorMap', N=cmap.shape[0])"
   ]
  },
  {
   "attachments": {},
   "cell_type": "markdown",
   "metadata": {},
   "source": [
    "# Even though Boughter & Meier-Schellersheim PLOS Comp Bio 2023 is an AIMS methods manuscript...\n",
    "\n",
    "While the data should be fairly easy to recreate, for the sake of transparency we go ahead and include all of the clusters from all of the different tested methods in supplemental table S2.\n",
    "\n",
    "For our clusters we quantify:\n",
    "- clustered sequences\n",
    "- Purity of each cluster (maybe average purity?)\n",
    "- total number of clusters\n",
    "- average cluster size\n",
    "\n",
    "AIMS Settings to Look at:\n",
    "\n",
    "- Left alignment\n",
    "- Right alignment\n",
    "- Bulge alignment\n",
    "- PCA\n",
    "- DBSCAN\n",
    "- OPTICS\n",
    "- KMeans"
   ]
  },
  {
   "cell_type": "code",
   "execution_count": 8,
   "metadata": {},
   "outputs": [],
   "source": [
    "bulge = pandas.read_csv('../cluster_datasets/bulge_clust.csv')\n",
    "standard = pandas.read_csv('../cluster_datasets/standard_clusts.csv')\n",
    "left = pandas.read_csv('../cluster_datasets/left_clust.csv')\n",
    "right = pandas.read_csv('../cluster_datasets/right_clust.csv')\n",
    "kmean = pandas.read_csv('../cluster_datasets/kmean_clust.csv')\n",
    "optics = pandas.read_csv('../cluster_datasets/optics_clust.csv')\n",
    "pca = pandas.read_csv('../cluster_datasets/pca_clust.csv')\n",
    "pca_kmean = pandas.read_csv('../cluster_datasets/NEW_clust.csv')\n",
    "noNorm = pandas.read_csv('../cluster_datasets/noRenorm_clusts.csv')\n",
    "aimsDist = pandas.read_csv('../cluster_datasets/aimsDist_sim_cluster.csv').sort_values('0')"
   ]
  },
  {
   "attachments": {},
   "cell_type": "markdown",
   "metadata": {},
   "source": [
    "# Go through one-by-one and change the \"data\" variable below to get the quantifications of supplemental table S2"
   ]
  },
  {
   "cell_type": "code",
   "execution_count": 132,
   "metadata": {},
   "outputs": [
    {
     "name": "stdout",
     "output_type": "stream",
     "text": [
      "Number of Clusters: 417\n",
      "Fraction Clustered: 0.26126666666666665\n",
      "Average Cluster Size: 9.398081534772182 +/- 8.439929998633952\n",
      "Fraction KRQN Clusts: 0.4412470023980815\n",
      "Fraction DEHY Clusts: 0.44364508393285373\n",
      "Fraction Random Clusts: 0.05515587529976019\n",
      "Purity KRQN Clusts: 0.9074475567890319 +/- 0.13476281198632076\n",
      "Purity DEHY Clusts: 0.8896391689485839 +/- 0.14076581042130956\n",
      "Purity Random Clusts: 0.686306717803218 +/- 0.16999386550955844\n"
     ]
    }
   ],
   "source": [
    "data = standard\n",
    "\n",
    "num_clust = len(data)\n",
    "totNum = 15000\n",
    "\n",
    "clustNum = data['0'].sort_values().values[-1]+1\n",
    "frac_clust = num_clust/totNum\n",
    "\n",
    "print('Number of Clusters: '+str(clustNum))\n",
    "print('Fraction Clustered: ' + str(frac_clust))\n",
    "\n",
    "clust_member = []\n",
    "\n",
    "a= 0\n",
    "for i in np.arange(clustNum):\n",
    "    sub = data[data['0'] == i]\n",
    "\n",
    "    num_krqn = len(sub[sub['Unnamed: 0'].str.contains('KRQN')])\n",
    "    num_dehy = len(sub[sub['Unnamed: 0'].str.contains('DEYH')])\n",
    "    num_Rand = len(sub[sub['Unnamed: 0'].str.contains('Rand')])\n",
    "\n",
    "    if a == 0:\n",
    "        save_clusts = [int(num_krqn),int(num_dehy),int(num_Rand)]\n",
    "        a+=1\n",
    "    else:\n",
    "        save_clusts = np.vstack((save_clusts,[int(num_krqn),int(num_dehy),int(num_Rand)]))\n",
    "\n",
    "    # So this is for keeping a count of who is the primary cluster member\n",
    "    # faster than testing again later on...\n",
    "    if num_krqn > num_dehy and num_krqn > num_Rand:\n",
    "        clust_member = clust_member + ['krqn']\n",
    "    elif num_dehy > num_krqn and num_dehy > num_Rand:\n",
    "        clust_member = clust_member + ['dehy']\n",
    "    elif num_Rand > num_dehy and num_Rand > num_krqn:\n",
    "        clust_member = clust_member + ['rand']\n",
    "    else:\n",
    "        clust_member = clust_member + ['NoDom']\n",
    "\n",
    "    \n",
    "fin_frame = np.transpose(pandas.DataFrame(np.vstack([np.transpose(save_clusts),clust_member])))\n",
    "\n",
    "avg_clust_size = np.average(np.sum(fin_frame[[0,1,2]].values.astype(int),axis=1))\n",
    "std_clust_size = np.std(np.sum(fin_frame[[0,1,2]].values.astype(int),axis=1))\n",
    "\n",
    "print('Average Cluster Size: ' + str(avg_clust_size) + ' +/- ' + str(std_clust_size))\n",
    "\n",
    "krqn_clusts = fin_frame[fin_frame[3] == 'krqn']\n",
    "dehy_clusts = fin_frame[fin_frame[3] == 'dehy']\n",
    "rand_clusts = fin_frame[fin_frame[3] == 'rand']\n",
    "\n",
    "frac_krqn = len(krqn_clusts)\n",
    "frac_dehy = len(dehy_clusts)\n",
    "frac_rand = len(rand_clusts)\n",
    "\n",
    "print('Fraction KRQN Clusts: ' + str(frac_krqn/clustNum))\n",
    "print('Fraction DEHY Clusts: ' + str(frac_dehy/clustNum))\n",
    "print('Fraction Random Clusts: ' + str(frac_rand/clustNum))\n",
    "\n",
    "krqn_avg_purity = np.average(krqn_clusts[0].values.astype(int)/np.sum(krqn_clusts[[0,1,2]].values.astype(int),axis=1))\n",
    "krqn_std_purity = np.std(krqn_clusts[0].values.astype(int)/np.sum(krqn_clusts[[0,1,2]].values.astype(int),axis=1))\n",
    "\n",
    "dehy_avg_purity = np.average(dehy_clusts[1].values.astype(int)/np.sum(dehy_clusts[[0,1,2]].values.astype(int),axis=1))\n",
    "dehy_std_purity = np.std(dehy_clusts[1].values.astype(int)/np.sum(dehy_clusts[[0,1,2]].values.astype(int),axis=1))\n",
    "\n",
    "rand_avg_purity = np.average(rand_clusts[2].values.astype(int)/np.sum(rand_clusts[[0,1,2]].values.astype(int),axis=1))\n",
    "rand_std_purity = np.std(rand_clusts[2].values.astype(int)/np.sum(rand_clusts[[0,1,2]].values.astype(int),axis=1))\n",
    "\n",
    "print('Purity KRQN Clusts: ' + str(krqn_avg_purity)+ ' +/- '+str(krqn_std_purity))\n",
    "print('Purity DEHY Clusts: ' + str(dehy_avg_purity)+ ' +/- '+str(dehy_std_purity))\n",
    "print('Purity Random Clusts: ' + str(rand_avg_purity)+ ' +/- '+str(rand_std_purity))"
   ]
  },
  {
   "attachments": {},
   "cell_type": "markdown",
   "metadata": {},
   "source": [
    "# Alright then to compare to GLIPH and TCRdist we need to do things a little differently\n",
    "The outputs are a little funky for clustering, so we need to use dendograms to cluster TCRdist sequences and motifs to cluster GLIPH.\n",
    "\n",
    "GLIPH *does* have clustering functionality, but I needed to kill the job because it was taking far too long to run"
   ]
  },
  {
   "attachments": {},
   "cell_type": "markdown",
   "metadata": {},
   "source": [
    "# Also, important to note for the TCRdist that I can't include the raw data, too large (~0.5GB)\n",
    "\n",
    "But I'll still include the code used to analyze the output distance matrix, and also include the TCRs so that you could theoretically recalculate the same distance matrix"
   ]
  },
  {
   "cell_type": "code",
   "execution_count": 14,
   "metadata": {},
   "outputs": [],
   "source": [
    "#dist_mat = np.load('../cluster_datasets/sim_tcrdist.npy')\n",
    "seq_df = np.transpose(pandas.read_csv('../cluster_datasets/simTCRs.csv'))\n",
    "\n",
    "col = ['Rand']*5000 + ['KRQN']*5000 + ['DEYH']*5000\n",
    "\n",
    "#dist_df = pandas.DataFrame(dist_mat)\n",
    "#dist_df.columns = col\n",
    "seq_df.columns = col"
   ]
  },
  {
   "attachments": {},
   "cell_type": "markdown",
   "metadata": {},
   "source": [
    "# Scipy very nicely has some modules for generating these dendrograms and identifying distance based clusters"
   ]
  },
  {
   "cell_type": "code",
   "execution_count": 16,
   "metadata": {},
   "outputs": [
    {
     "data": {
      "image/png": "[encoded data removed]",
      "text/plain": [
       "<Figure size 432x288 with 1 Axes>"
      ]
     },
     "metadata": {
      "needs_background": "light"
     },
     "output_type": "display_data"
    }
   ],
   "source": [
    "# Visualize the dendrograms first to know that you did things roughly right:\n",
    "from scipy.cluster.hierarchy import dendrogram, linkage\n",
    "from scipy.spatial.distance import squareform\n",
    "\n",
    "mat= dist_mat\n",
    "dists = squareform(mat)\n",
    "linkage_matrix = linkage(dists, \"single\")\n",
    "\n",
    "import sys\n",
    "sys.setrecursionlimit(10000)\n",
    "dend2 = dendrogram(linkage_matrix,truncate_mode='lastp',p=50)  # show only the last p merged clusters)"
   ]
  },
  {
   "cell_type": "code",
   "execution_count": 26,
   "metadata": {},
   "outputs": [
    {
     "data": {
      "text/plain": [
       "[<matplotlib.lines.Line2D at 0x7f0c05c1d600>]"
      ]
     },
     "execution_count": 26,
     "metadata": {},
     "output_type": "execute_result"
    },
    {
     "data": {
      "image/png": "[encoded data removed]",
      "text/plain": [
       "<Figure size 432x288 with 1 Axes>"
      ]
     },
     "metadata": {
      "needs_background": "light"
     },
     "output_type": "display_data"
    }
   ],
   "source": [
    "# Then, check to see how many clusters you are making depending on the \"max_d\" you choose\n",
    "from scipy.cluster.hierarchy import fcluster\n",
    "max_d = 30\n",
    "clusters = fcluster(linkage_matrix, max_d, criterion='distance')\n",
    "pl.plot(clusters)"
   ]
  },
  {
   "attachments": {},
   "cell_type": "markdown",
   "metadata": {},
   "source": [
    "# And now the creation of this \"tcrDist_final\" can be input back above as the \"data\" variable for generating the table metrics\n",
    "\n",
    "I could go ahead and create a function out of this, but there really isn't much need to clean things up. I don't think these metrics are particularly useful, the reviewer just asked for them."
   ]
  },
  {
   "cell_type": "code",
   "execution_count": 34,
   "metadata": {},
   "outputs": [],
   "source": [
    "# we aren't \"re-running\" this analysis typically because the tcrDist matrix is hard to share\n",
    "rerun = False\n",
    "if rerun:\n",
    "    tcrDist_df = pandas.DataFrame(clusters)\n",
    "    tcrDist_df.columns = ['0']\n",
    "    colDF = pandas.DataFrame(col)\n",
    "    colDF.columns = ['Unnamed: 0']\n",
    "\n",
    "    tcrDist_final = pandas.concat([colDF,tcrDist_df],axis=1)\n",
    "else:\n",
    "    tcrDist_final = pandas.read_csv('../cluster_datasets/tcrdist_clust.csv')"
   ]
  },
  {
   "attachments": {},
   "cell_type": "markdown",
   "metadata": {},
   "source": [
    "# The last thing we do is try to squeeze out these metrics from GLIPH\n",
    "Probably the hardest to do this for, because again the clustering was far too slow and the motifs are *very* degenerate, as discussed in the text of this manuscript"
   ]
  },
  {
   "cell_type": "code",
   "execution_count": 69,
   "metadata": {},
   "outputs": [],
   "source": [
    "gg = pandas.read_csv('../cluster_datasets/sim_gliph_motifs.csv',sep='\\t')\n",
    "# Only count motifs longer than 3 amino acids\n",
    "long = gg[gg['Motif'].str.len() > 3]\n",
    "# Only count motifs with more than 10 sequences\n",
    "gClust = long[long['Counts'] > 10]\n",
    "\n",
    "# The doubel reset index is a little wonky, but it adds numbers and the dset in as variables\n",
    "finDF = np.transpose(seq_df).reset_index().reset_index()\n",
    "finDF.columns = ['Index','dset','seq']"
   ]
  },
  {
   "cell_type": "code",
   "execution_count": 104,
   "metadata": {},
   "outputs": [],
   "source": [
    "a = 0 \n",
    "for i in gClust['Motif'].values:\n",
    "    sub = finDF[finDF['seq'].str.contains(i)]\n",
    "    # Need to save index to look for duplicates\n",
    "    index_temp = sub['Index'].values\n",
    "    clustID = pandas.DataFrame([a]*len(sub))\n",
    "    tempDF = pandas.concat([sub['dset'].reset_index(),pandas.DataFrame(clustID)],axis=1)\n",
    "    if a == 0:\n",
    "        indices = index_temp\n",
    "        gliphFF = tempDF\n",
    "    else:\n",
    "        indices = np.hstack((indices,index_temp))\n",
    "        gliphFF = pandas.concat([gliphFF,tempDF],axis=0)\n",
    "    a += 1 \n",
    "gliphFF.columns = ['index','Unnamed: 0','0']"
   ]
  },
  {
   "attachments": {},
   "cell_type": "markdown",
   "metadata": {},
   "source": [
    "# DropDups should be the final dataframe that you put into the \"data\" variable above"
   ]
  },
  {
   "cell_type": "code",
   "execution_count": 133,
   "metadata": {},
   "outputs": [],
   "source": [
    "pre_dropDups = gliphFF.reset_index()\n",
    "# This is how we get the gliph clusters in the paper - remove *all* sequences in multiple clusters\n",
    "gliph_dropDups = pre_dropDups[~pre_dropDups['index'].duplicated(keep=False)]\n",
    "# This is how you could also do it, keep only the first instance of a clustered sequence.\n",
    "# Even if you're \"nicer\" to GLIPH here, still only ~40% of sequences get clustered\n",
    "gliph_dropDups_kinder = pre_dropDups.loc[pre_dropDups['index'].drop_duplicates().index]"
   ]
  }
 ],
 "metadata": {
  "kernelspec": {
   "display_name": "aims_gpu",
   "language": "python",
   "name": "aims_gpu"
  },
  "language_info": {
   "codemirror_mode": {
    "name": "ipython",
    "version": 3
   },
   "file_extension": ".py",
   "mimetype": "text/x-python",
   "name": "python",
   "nbconvert_exporter": "python",
   "pygments_lexer": "ipython3",
   "version": "3.10.12"
  },
  "orig_nbformat": 4
 },
 "nbformat": 4,
 "nbformat_minor": 2
}
